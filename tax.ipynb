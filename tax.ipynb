{
  "nbformat": 4,
  "nbformat_minor": 0,
  "metadata": {
    "colab": {
      "name": "tax.ipynb",
      "provenance": [],
      "collapsed_sections": []
    },
    "kernelspec": {
      "name": "python3",
      "display_name": "Python 3"
    },
    "language_info": {
      "name": "python"
    }
  },
  "cells": [
    {
      "cell_type": "code",
      "execution_count": 1,
      "metadata": {
        "colab": {
          "base_uri": "https://localhost:8080/"
        },
        "id": "qsiQb_5SOXXm",
        "outputId": "6ffb19e1-c808-478d-922c-f8cbaea16aad"
      },
      "outputs": [
        {
          "name": "stdout",
          "output_type": "stream",
          "text": [
            "enter the first number563\n"
          ]
        }
      ],
      "source": [
        "x=int(input(\"enter the first number\"))"
      ]
    },
    {
      "cell_type": "code",
      "source": [
        "y=int(input(\"enter the first number\"))"
      ],
      "metadata": {
        "colab": {
          "base_uri": "https://localhost:8080/"
        },
        "id": "NFEPHv1XPnzB",
        "outputId": "10390a35-11f4-4cb9-e6a7-6c0a13393035"
      },
      "execution_count": 2,
      "outputs": [
        {
          "name": "stdout",
          "output_type": "stream",
          "text": [
            "enter the first number798\n"
          ]
        }
      ]
    },
    {
      "cell_type": "code",
      "source": [
        "print(x+y)"
      ],
      "metadata": {
        "colab": {
          "base_uri": "https://localhost:8080/"
        },
        "id": "cOHUAM0VQQyf",
        "outputId": "4197253a-fa17-412a-ce83-b272b72c1245"
      },
      "execution_count": 5,
      "outputs": [
        {
          "output_type": "stream",
          "name": "stdout",
          "text": [
            "563798\n"
          ]
        }
      ]
    },
    {
      "cell_type": "code",
      "source": [
        "int(x)+int(y)\n",
        "          "
      ],
      "metadata": {
        "colab": {
          "base_uri": "https://localhost:8080/"
        },
        "id": "ZbixLxdqQqTA",
        "outputId": "bdefcf54-5b06-4c14-ecf7-fe187504af17"
      },
      "execution_count": 9,
      "outputs": [
        {
          "output_type": "execute_result",
          "data": {
            "text/plain": [
              "1361"
            ]
          },
          "metadata": {},
          "execution_count": 9
        }
      ]
    },
    {
      "cell_type": "code",
      "source": [
        "int(x)-int(y)"
      ],
      "metadata": {
        "colab": {
          "base_uri": "https://localhost:8080/"
        },
        "id": "RGuaIvqHRJZu",
        "outputId": "c295efd5-4462-438a-b245-f38e180f10d0"
      },
      "execution_count": 12,
      "outputs": [
        {
          "output_type": "execute_result",
          "data": {
            "text/plain": [
              "-235"
            ]
          },
          "metadata": {},
          "execution_count": 12
        }
      ]
    },
    {
      "cell_type": "code",
      "source": [
        "int(x)*int(y)"
      ],
      "metadata": {
        "colab": {
          "base_uri": "https://localhost:8080/"
        },
        "id": "QxXp3pkMRYeq",
        "outputId": "63ddecab-e315-4958-e33c-5fe6e488d770"
      },
      "execution_count": 13,
      "outputs": [
        {
          "output_type": "execute_result",
          "data": {
            "text/plain": [
              "449274"
            ]
          },
          "metadata": {},
          "execution_count": 13
        }
      ]
    },
    {
      "cell_type": "code",
      "source": [
        "int(x)/int(y)\n",
        "          "
      ],
      "metadata": {
        "colab": {
          "base_uri": "https://localhost:8080/"
        },
        "id": "VCxDYBm4ReWS",
        "outputId": "60406cc3-a24c-4b6f-9a8a-5a680cef4815"
      },
      "execution_count": 14,
      "outputs": [
        {
          "output_type": "execute_result",
          "data": {
            "text/plain": [
              "0.7055137844611529"
            ]
          },
          "metadata": {},
          "execution_count": 14
        }
      ]
    },
    {
      "cell_type": "code",
      "source": [
        "P=int(input(\"enter the amt\"))"
      ],
      "metadata": {
        "colab": {
          "base_uri": "https://localhost:8080/"
        },
        "id": "NfOAVnX9UCKZ",
        "outputId": "53b2b44c-e3ae-4635-9a71-940aa37b488d"
      },
      "execution_count": 18,
      "outputs": [
        {
          "name": "stdout",
          "output_type": "stream",
          "text": [
            "enter the amt10000\n"
          ]
        }
      ]
    },
    {
      "cell_type": "code",
      "source": [
        "N=int(input(\"enter no. of yrs\"))"
      ],
      "metadata": {
        "colab": {
          "base_uri": "https://localhost:8080/"
        },
        "id": "FFG34nofUo0D",
        "outputId": "8c154264-cf8b-48a9-926c-de3eee4349c9"
      },
      "execution_count": 19,
      "outputs": [
        {
          "name": "stdout",
          "output_type": "stream",
          "text": [
            "enter no. of yrs5\n"
          ]
        }
      ]
    },
    {
      "cell_type": "code",
      "source": [
        "R=int(input(\"enter rate of int\"))/100"
      ],
      "metadata": {
        "colab": {
          "base_uri": "https://localhost:8080/"
        },
        "id": "JD7apI3yU0bb",
        "outputId": "f52ac4ee-37ac-4a19-fcef-3c28e2f1aa80"
      },
      "execution_count": 20,
      "outputs": [
        {
          "name": "stdout",
          "output_type": "stream",
          "text": [
            "enter rate of int5\n"
          ]
        }
      ]
    },
    {
      "cell_type": "code",
      "source": [
        "I=P*N*R"
      ],
      "metadata": {
        "id": "kl3aOls6VPWM"
      },
      "execution_count": 21,
      "outputs": []
    },
    {
      "cell_type": "code",
      "source": [
        "print(I)"
      ],
      "metadata": {
        "colab": {
          "base_uri": "https://localhost:8080/"
        },
        "id": "-dPZ3XWJVztc",
        "outputId": "8236d2cd-2040-4754-9110-87667cfbe071"
      },
      "execution_count": 23,
      "outputs": [
        {
          "output_type": "stream",
          "name": "stdout",
          "text": [
            "2500.0\n"
          ]
        }
      ]
    },
    {
      "cell_type": "code",
      "source": [
        "x=int(input(\"enter your mark\"))"
      ],
      "metadata": {
        "colab": {
          "base_uri": "https://localhost:8080/"
        },
        "id": "bjCXC0tOWnfA",
        "outputId": "b6a386dd-8659-49f2-91ef-7010a3ff95ed"
      },
      "execution_count": 26,
      "outputs": [
        {
          "name": "stdout",
          "output_type": "stream",
          "text": [
            "enter your mark50\n"
          ]
        }
      ]
    },
    {
      "cell_type": "code",
      "source": [
        "if x > 40 : \n",
        "  print(\"you are pass\")\n",
        "if x < 40 :\n",
        "  print(\"you are fail\")"
      ],
      "metadata": {
        "colab": {
          "base_uri": "https://localhost:8080/"
        },
        "id": "-CmQzIuKYXP6",
        "outputId": "d332dccf-6387-4ff3-9708-afe287dcee12"
      },
      "execution_count": 29,
      "outputs": [
        {
          "output_type": "stream",
          "name": "stdout",
          "text": [
            "you are pass\n"
          ]
        }
      ]
    },
    {
      "cell_type": "code",
      "source": [
        "x=int(input(\"enter your salary\"))"
      ],
      "metadata": {
        "colab": {
          "base_uri": "https://localhost:8080/"
        },
        "id": "nOhpjaX3ZgPO",
        "outputId": "3d973846-b84d-47e9-b34b-e791caf55d00"
      },
      "execution_count": 30,
      "outputs": [
        {
          "name": "stdout",
          "output_type": "stream",
          "text": [
            "enter your salary50000\n"
          ]
        }
      ]
    },
    {
      "cell_type": "code",
      "source": [
        "if x > 250000 :\n",
        "  print(\"you are taxable\")\n",
        "  print=10\n",
        "if x < 250000 :\n",
        "  print(\"you are not taxable\")\n",
        "  print=10"
      ],
      "metadata": {
        "colab": {
          "base_uri": "https://localhost:8080/"
        },
        "id": "lS6khLEOa5iw",
        "outputId": "b03911fe-9ae2-4c59-b742-61f707697af9"
      },
      "execution_count": 36,
      "outputs": [
        {
          "output_type": "stream",
          "name": "stdout",
          "text": [
            "you are not taxable\n"
          ]
        }
      ]
    },
    {
      "cell_type": "code",
      "source": [
        "if salary>50000\n",
        "   print(\"you are taxable)\")\n",
        "   t=sal-250000\n",
        "   tax=t*10/100\n",
        "   print(\"tax\",tax)\n",
        "else:\n",
        "   print(\"you are free from tax\")\n"
      ],
      "metadata": {
        "colab": {
          "base_uri": "https://localhost:8080/",
          "height": 130
        },
        "id": "HnF3nER5boZQ",
        "outputId": "48aa10c7-1434-4e73-d6b1-687bc0d1df4c"
      },
      "execution_count": 40,
      "outputs": [
        {
          "output_type": "error",
          "ename": "SyntaxError",
          "evalue": "ignored",
          "traceback": [
            "\u001b[0;36m  File \u001b[0;32m\"<ipython-input-40-5964b587ce24>\"\u001b[0;36m, line \u001b[0;32m1\u001b[0m\n\u001b[0;31m    if salary>50000\u001b[0m\n\u001b[0m                   ^\u001b[0m\n\u001b[0;31mSyntaxError\u001b[0m\u001b[0;31m:\u001b[0m invalid syntax\n"
          ]
        }
      ]
    },
    {
      "cell_type": "code",
      "source": [
        "if x < 250000\n",
        "   print(\".......\")\n",
        "if 250000<x<500000 :\n",
        "  "
      ],
      "metadata": {
        "id": "Zpa_Ab4kgclD"
      },
      "execution_count": 40,
      "outputs": []
    }
  ]
}